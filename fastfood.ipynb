{
 "cells": [
  {
   "cell_type": "code",
   "execution_count": 66,
   "metadata": {},
   "outputs": [
    {
     "name": "stdout",
     "output_type": "stream",
     "text": [
      "address        object\n",
      "city           object\n",
      "country        object\n",
      "keys           object\n",
      "latitude      float64\n",
      "longitude     float64\n",
      "name           object\n",
      "postalCode    float64\n",
      "province       object\n",
      "websites       object\n",
      "dtype: object\n"
     ]
    }
   ],
   "source": [
    "import pandas as pd\n",
    "\n",
    "df = pd.read_csv('fastfood.csv')\n",
    "\n",
    "# data type\n",
    "print(df.dtypes)\n"
   ]
  },
  {
   "cell_type": "code",
   "execution_count": 67,
   "metadata": {},
   "outputs": [
    {
     "name": "stdout",
     "output_type": "stream",
     "text": [
      "address         0\n",
      "city            0\n",
      "country         0\n",
      "keys            0\n",
      "latitude        0\n",
      "longitude       0\n",
      "name            0\n",
      "postalCode    115\n",
      "province        0\n",
      "websites      465\n",
      "dtype: int64\n"
     ]
    }
   ],
   "source": [
    "# missing values\n",
    "print(df.isnull().sum())\n"
   ]
  },
  {
   "cell_type": "code",
   "execution_count": 68,
   "metadata": {},
   "outputs": [
    {
     "name": "stdout",
     "output_type": "stream",
     "text": [
      "Invalid Latitude Rows: Empty DataFrame\n",
      "Columns: [address, city, country, keys, latitude, longitude, name, postalCode, province, websites]\n",
      "Index: []\n",
      "Invalid Longitude Rows: Empty DataFrame\n",
      "Columns: [address, city, country, keys, latitude, longitude, name, postalCode, province, websites]\n",
      "Index: []\n"
     ]
    }
   ],
   "source": [
    "# cordenadas\n",
    "invalid_lat = df[(df['latitude'] < -90) | (df['latitude'] > 90)]\n",
    "invalid_long = df[(df['longitude'] < -180) | (df['longitude'] > 180)]\n",
    "\n",
    "print(\"Invalid Latitude Rows:\", invalid_lat)\n",
    "print(\"Invalid Longitude Rows:\", invalid_long)\n"
   ]
  },
  {
   "cell_type": "code",
   "execution_count": 69,
   "metadata": {},
   "outputs": [
    {
     "name": "stdout",
     "output_type": "stream",
     "text": [
      "Invalid Postal Code Rows: Empty DataFrame\n",
      "Columns: [address, city, country, keys, latitude, longitude, name, postalCode, province, websites]\n",
      "Index: []\n"
     ]
    }
   ],
   "source": [
    "# postal codes invalidos\n",
    "invalid_postal = df[df['postalCode'] > 99999]  # assuming postal codes are at most 5 digits\n",
    "print(\"Invalid Postal Code Rows:\", invalid_postal)\n"
   ]
  },
  {
   "cell_type": "code",
   "execution_count": 70,
   "metadata": {},
   "outputs": [
    {
     "name": "stdout",
     "output_type": "stream",
     "text": [
      "Duplicate Rows: Empty DataFrame\n",
      "Columns: [address, city, country, keys, latitude, longitude, name, postalCode, province, websites]\n",
      "Index: []\n"
     ]
    }
   ],
   "source": [
    "# duplicados\n",
    "duplicates = df[df.duplicated()]\n",
    "print(\"Duplicate Rows:\", duplicates)\n"
   ]
  },
  {
   "cell_type": "code",
   "execution_count": 71,
   "metadata": {},
   "outputs": [
    {
     "name": "stdout",
     "output_type": "stream",
     "text": [
      "       latitude      longitude     postalCode  \n",
      "count  10000.000000  10000.000000   9885.000000\n",
      "mean      37.552195    -91.056132  52446.127162\n",
      "std        5.050275     18.556339  26597.628786\n",
      "min       -6.244273   -159.378915   1020.000000\n",
      "25%       34.028706    -97.412631  30513.000000\n",
      "50%       38.298216    -87.660930  48150.000000\n",
      "75%       41.116765    -81.458351  75964.000000\n",
      "max       64.840240    123.012361  99801.000000\n"
     ]
    }
   ],
   "source": [
    "# outliers\n",
    "print(df.describe())\n"
   ]
  },
  {
   "cell_type": "code",
   "execution_count": 72,
   "metadata": {},
   "outputs": [
    {
     "data": {
      "image/png": "[encoded data removed]",
      "text/plain": [
       "<Figure size 640x480 with 1 Axes>"
      ]
     },
     "metadata": {},
     "output_type": "display_data"
    },
    {
     "data": {
      "image/png": "[encoded data removed]",
      "text/plain": [
       "<Figure size 640x480 with 1 Axes>"
      ]
     },
     "metadata": {},
     "output_type": "display_data"
    }
   ],
   "source": [
    "import matplotlib.pyplot as plt\n",
    "import seaborn as sns\n",
    "\n",
    "# boplot outliers\n",
    "sns.boxplot(x=df['latitude'])\n",
    "plt.title(\"Latitude Distribution\")\n",
    "plt.show()\n",
    "\n",
    "sns.boxplot(x=df['longitude'])\n",
    "plt.title(\"Longitude Distribution\")\n",
    "plt.show()\n"
   ]
  },
  {
   "cell_type": "code",
   "execution_count": 73,
   "metadata": {},
   "outputs": [
    {
     "name": "stdout",
     "output_type": "stream",
     "text": [
      "province\n",
      "CA         676\n",
      "TX         634\n",
      "OH         543\n",
      "FL         471\n",
      "IN         379\n",
      "IL         363\n",
      "NC         358\n",
      "GA         347\n",
      "MO         334\n",
      "KY         332\n",
      "VA         327\n",
      "PA         283\n",
      "NY         269\n",
      "MI         251\n",
      "TN         245\n",
      "SC         238\n",
      "LA         237\n",
      "AL         236\n",
      "WA         209\n",
      "OK         208\n",
      "AZ         208\n",
      "WI         186\n",
      "IA         166\n",
      "UT         159\n",
      "MD         159\n",
      "CO         158\n",
      "NJ         151\n",
      "AR         151\n",
      "NM         149\n",
      "MN         148\n",
      "NV         135\n",
      "MA         131\n",
      "OR         114\n",
      "SD         105\n",
      "KS         103\n",
      "ID          99\n",
      "CT          96\n",
      "WV          93\n",
      "NE          92\n",
      "MS          82\n",
      "ND          50\n",
      "ME          44\n",
      "VT          43\n",
      "WY          41\n",
      "HI          40\n",
      "NH          36\n",
      "DE          32\n",
      "MT          25\n",
      "RI          24\n",
      "DC          21\n",
      "AK          14\n",
      "Co Spgs      5\n",
      "Name: count, dtype: int64\n"
     ]
    }
   ],
   "source": [
    "# count\n",
    "province_counts = df['province'].value_counts()\n",
    "\n",
    "# count basico\n",
    "print(province_counts)\n"
   ]
  },
  {
   "cell_type": "code",
   "execution_count": 74,
   "metadata": {},
   "outputs": [
    {
     "name": "stdout",
     "output_type": "stream",
     "text": [
      "State abbreviations replaced with full names and saved as 'fastfood_full_states.csv'\n",
      "Dataset cleaned and saved as 'novo_fastfood.csv'\n"
     ]
    },
    {
     "name": "stderr",
     "output_type": "stream",
     "text": [
      "C:\\Users\\Miguel\\AppData\\Local\\Temp\\ipykernel_20188\\174381861.py:8: FutureWarning: A value is trying to be set on a copy of a DataFrame or Series through chained assignment using an inplace method.\n",
      "The behavior will change in pandas 3.0. This inplace method will never work because the intermediate object on which we are setting values always behaves as a copy.\n",
      "\n",
      "For example, when doing 'df[col].method(value, inplace=True)', try using 'df.method({col: value}, inplace=True)' or df[col] = df[col].method(value) instead, to perform the operation inplace on the original object.\n",
      "\n",
      "\n",
      "  df['postalCode'].fillna('Unknown', inplace=True)\n",
      "C:\\Users\\Miguel\\AppData\\Local\\Temp\\ipykernel_20188\\174381861.py:11: FutureWarning: A value is trying to be set on a copy of a DataFrame or Series through chained assignment using an inplace method.\n",
      "The behavior will change in pandas 3.0. This inplace method will never work because the intermediate object on which we are setting values always behaves as a copy.\n",
      "\n",
      "For example, when doing 'df[col].method(value, inplace=True)', try using 'df.method({col: value}, inplace=True)' or df[col] = df[col].method(value) instead, to perform the operation inplace on the original object.\n",
      "\n",
      "\n",
      "  df['websites'].fillna('Not Available', inplace=True)\n"
     ]
    }
   ],
   "source": [
    "\n",
    "# drop country\n",
    "df.drop(columns=['country'], inplace=True)\n",
    "\n",
    "# Convert postalCode to string to avoid precision issues\n",
    "df['postalCode'] = df['postalCode'].astype(str).str.replace('.0', '', regex=False)\n",
    "\n",
    "# missing values \n",
    "df['postalCode'].fillna('Unknown', inplace=True)\n",
    "\n",
    "# missing values\n",
    "df['websites'].fillna('Not Available', inplace=True)\n",
    "\n",
    "# normalizacao states\n",
    "us_states = {  \n",
    "    'Alabama': 'AL', 'Alaska': 'AK', 'Arizona': 'AZ', 'Arkansas': 'AR', 'California': 'CA', 'Colorado': 'CO',  \n",
    "    'Connecticut': 'CT', 'Delaware': 'DE', 'Florida': 'FL', 'Georgia': 'GA', 'Hawaii': 'HI', 'Idaho': 'ID',  \n",
    "    'Illinois': 'IL', 'Indiana': 'IN', 'Iowa': 'IA', 'Kansas': 'KS', 'Kentucky': 'KY', 'Louisiana': 'LA',  \n",
    "    'Maine': 'ME', 'Maryland': 'MD', 'Massachusetts': 'MA', 'Michigan': 'MI', 'Minnesota': 'MN', 'Mississippi': 'MS',  \n",
    "    'Missouri': 'MO', 'Montana': 'MT', 'Nebraska': 'NE', 'Nevada': 'NV', 'New Hampshire': 'NH', 'New Jersey': 'NJ',  \n",
    "    'New Mexico': 'NM', 'New York': 'NY', 'North Carolina': 'NC', 'North Dakota': 'ND', 'Ohio': 'OH',  \n",
    "    'Oklahoma': 'OK', 'Oregon': 'OR', 'Pennsylvania': 'PA', 'Rhode Island': 'RI', 'South Carolina': 'SC',  \n",
    "    'South Dakota': 'SD', 'Tennessee': 'TN', 'Texas': 'TX', 'Utah': 'UT', 'Vermont': 'VT', 'Virginia': 'VA',  \n",
    "    'Washington': 'WA', 'West Virginia': 'WV', 'Wisconsin': 'WI', 'Wyoming': 'WY'  \n",
    "}\n",
    "df['province'] = df['province'].replace(us_states)\n",
    "\n",
    "# rename\n",
    "df.rename(columns={'province': 'state'}, inplace=True)\n",
    "\n",
    "# dicionario\n",
    "state_abbr_to_name = {v: k for k, v in us_states.items()}  # Swap keys and values\n",
    "\n",
    "# trocar abreviacoes por nome state\n",
    "df['state'] = df['state'].replace(state_abbr_to_name)\n",
    "\n",
    "print(\"State abbreviations replaced with full names and saved as 'fastfood_full_states.csv'\")\n",
    "\n",
    "df.drop(columns=['postalCode', 'address', 'city', 'keys', 'websites'], inplace=True)\n",
    "\n",
    "# reordernar colunas\n",
    "df = df[['name', 'state', 'latitude', 'longitude']]\n",
    "\n",
    "# save dataset\n",
    "df.to_csv('novo_fastfood.csv', index=False)\n",
    "\n",
    "print(\"Dataset cleaned and saved as 'novo_fastfood.csv'\")\n"
   ]
  },
  {
   "cell_type": "code",
   "execution_count": 75,
   "metadata": {},
   "outputs": [
    {
     "name": "stdout",
     "output_type": "stream",
     "text": [
      "|    | name                          | state          |   latitude |   longitude |\n",
      "|---:|:------------------------------|:---------------|-----------:|------------:|\n",
      "|  0 | McDonald's                    | Texas          |    32.9065 |   -97.0369  |\n",
      "|  1 | Del Taco                      | Nevada         |    36.2391 |  -115.168   |\n",
      "|  2 | Mcdonald's                    | Illinois       |    38.593  |   -89.9554  |\n",
      "|  3 | The Agora                     | North Carolina |    35.9112 |   -79.0575  |\n",
      "|  4 | Taco Bell                     | Wisconsin      |    43.1379 |   -88.2437  |\n",
      "|  5 | Alice's                       | Illinois       |    43.6159 |    13.5301  |\n",
      "|  6 | Mariu Kebabberia Gastronomica | Virginia       |    45.451  |     9.19847 |\n",
      "|  7 | McDonald's                    | Illinois       |    43.5227 |    13.252   |\n",
      "|  8 | McDonald's                    | Pennsylvania   |    39.1611 |   -78.1555  |\n",
      "|  9 | Mcdonald's                    | Virginia       |    36.7898 |   -79.3945  |\n",
      "| 10 | KFC                           | New Hampshire  |    43.3075 |   -70.9757  |\n",
      "| 11 | Jamba Juice                   | Nevada         |    36.1087 |  -115.14    |\n",
      "| 12 | McDonald's                    | Virginia       |    36.8682 |   -82.7746  |\n",
      "| 13 | Burger King                   | Virginia       |    36.7508 |   -80.7494  |\n",
      "| 14 | Chick-Fil-A                   | Kentucky       |    39.0554 |   -84.656   |\n",
      "| 15 | Mcdonald's                    | Ohio           |    40.7482 |   -81.5176  |\n",
      "| 16 | Arby's                        | Indiana        |    39.307  |   -85.2167  |\n",
      "| 17 | McDonald's                    | Georgia        |    34.1734 |   -84.5496  |\n",
      "| 18 | McDonald's                    | Florida        |    27.2716 |   -80.4297  |\n",
      "| 19 | Burger King                   | Wisconsin      |    42.9273 |   -88.1134  |\n"
     ]
    }
   ],
   "source": [
    "df = pd.read_csv('novo_fastfood.csv') \n",
    "\n",
    "print(df.head(20).to_markdown())\n"
   ]
  }
 ],
 "metadata": {
  "kernelspec": {
   "display_name": "Python 3",
   "language": "python",
   "name": "python3"
  },
  "language_info": {
   "codemirror_mode": {
    "name": "ipython",
    "version": 3
   },
   "file_extension": ".py",
   "mimetype": "text/x-python",
   "name": "python",
   "nbconvert_exporter": "python",
   "pygments_lexer": "ipython3",
   "version": "3.13.2"
  }
 },
 "nbformat": 4,
 "nbformat_minor": 2
}
