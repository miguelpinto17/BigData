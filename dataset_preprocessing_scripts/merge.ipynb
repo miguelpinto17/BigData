{
 "cells": [
  {
   "cell_type": "code",
   "execution_count": null,
   "metadata": {},
   "outputs": [
    {
     "name": "stdout",
     "output_type": "stream",
     "text": [
      "Datasets merged and saved as 'fastfood_obesity_merged.csv'\n"
     ]
    }
   ],
   "source": [
    "import pandas as pd\n",
    "\n",
    "\n",
    "df_fastfood = pd.read_csv(\"novo_fastfood.csv\")  \n",
    "df_obesity = pd.read_csv(\"novo_obesity.csv\")\n",
    "\n",
    "# agrupar por state\n",
    "df_fastfood_grouped = df_fastfood.groupby('state').size().reset_index(name='fast_food_count')\n",
    "\n",
    "# merge\n",
    "df_merged = df_obesity.merge(df_fastfood_grouped, left_on='State', right_on='state', how='left')\n",
    "\n",
    "df_merged.drop(columns=['state'], inplace=True)\n",
    "\n",
    "df_merged.to_csv(\"fastfood_obesity.csv\", index=False)\n",
    "\n",
    "print(\"Datasets merged and saved as 'fastfood_obesity_merged.csv'\")\n"
   ]
  },
  {
   "cell_type": "code",
   "execution_count": null,
   "metadata": {},
   "outputs": [],
   "source": [
    "# Load the merged dataset\n",
    "df = pd.read_csv(\"fastfood_obesity.csv\")\n",
    "\n",
    "# densidade de fast food restaurants por area de estado\n",
    "df['fast_food_density'] = df['fast_food_count'] / df['Area']\n",
    "\n",
    "# normalização\n",
    "df['fast_food_density_normalized'] = (df['fast_food_density'] - df['fast_food_density'].min()) / \\\n",
    "                                     (df['fast_food_density'].max() - df['fast_food_density'].min())\n",
    "\n",
    "# save\n",
    "df.to_csv(\"fastfood_obesity.csv\", index=False)\n"
   ]
  },
  {
   "cell_type": "code",
   "execution_count": 12,
   "metadata": {},
   "outputs": [
    {
     "name": "stdout",
     "output_type": "stream",
     "text": [
      "|    | State                |   Obesity_index |        Area |        Perimeter |   fast_food_count |   fast_food_density |   fast_food_density_normalized |\n",
      "|---:|:---------------------|----------------:|------------:|-----------------:|------------------:|--------------------:|-------------------------------:|\n",
      "|  0 | Texas                |            32.4 | 7.67233e+12 |      1.54083e+07 |               634 |         8.26346e-11 |                      0.115391  |\n",
      "|  1 | California           |            24.2 | 5.32781e+12 |      1.45187e+07 |               676 |         1.26881e-10 |                      0.181771  |\n",
      "|  2 | Kentucky             |            34.6 | 1.12883e+12 |      6.3467e+06  |               332 |         2.9411e-10  |                      0.43265   |\n",
      "|  3 | Georgia              |            30.7 | 1.65298e+12 |      5.7956e+06  |               347 |         2.09924e-10 |                      0.306353  |\n",
      "|  4 | Wisconsin            |            30.7 | 1.56782e+12 |      6.80678e+06 |               186 |         1.18636e-10 |                      0.169401  |\n",
      "|  5 | Oregon               |            30.1 | 3.17845e+12 |      7.97601e+06 |               114 |         3.58666e-11 |                      0.0452282 |\n",
      "|  6 | Virginia             |            29.2 | 1.1588e+12  |      7.7108e+06  |               327 |         2.82187e-10 |                      0.414764  |\n",
      "|  7 | Tennessee            |            33.8 | 1.17705e+12 |      6.35038e+06 |               245 |         2.08147e-10 |                      0.303687  |\n",
      "|  8 | Louisiana            |            36.2 | 1.35509e+12 |      7.38386e+06 |               237 |         1.74896e-10 |                      0.253803  |\n",
      "|  9 | New York             |            25   | 1.41144e+12 |      7.98138e+06 |               269 |         1.90585e-10 |                      0.277341  |\n",
      "| 10 | Michigan             |            31.2 | 1.65722e+12 |      1.2408e+07  |               251 |         1.51458e-10 |                      0.218642  |\n",
      "| 11 | Idaho                |            28.6 | 2.5936e+12  |      9.08113e+06 |                99 |         3.81709e-11 |                      0.0486852 |\n",
      "| 12 | Florida              |            26.8 | 1.67441e+12 |      1.05339e+07 |               471 |         2.81293e-10 |                      0.413422  |\n",
      "| 13 | Alaska               |            29.8 | 5.30114e+11 |      6.66373e+06 |                14 |         2.64094e-11 |                      0.0310404 |\n",
      "| 14 | Montana              |            23.6 | 4.37147e+12 |      9.74547e+06 |                25 |         5.7189e-12  |                      0         |\n",
      "| 15 | Minnesota            |            26.1 | 2.36787e+12 |      8.53025e+06 |               148 |         6.25033e-11 |                      0.0851892 |\n",
      "| 16 | Nebraska             |            31.4 | 2.20744e+12 |      6.9216e+06  |                92 |         4.16772e-11 |                      0.0539454 |\n",
      "| 17 | Washington           |            26.4 | 2.21421e+12 |      7.50897e+06 |               209 |         9.43901e-11 |                      0.133027  |\n",
      "| 18 | Ohio                 |            29.8 | 1.15802e+12 |      5.01548e+06 |               543 |         4.68905e-10 |                      0.694883  |\n",
      "| 19 | Illinois             |            30.8 | 1.57157e+12 |      6.17253e+06 |               363 |         2.30979e-10 |                      0.337941  |\n",
      "| 20 | Missouri             |            32.4 | 1.94902e+12 |      7.16563e+06 |               334 |         1.71368e-10 |                      0.248511  |\n",
      "| 21 | Iowa                 |            32.1 | 1.57559e+12 |      5.55814e+06 |               166 |         1.05357e-10 |                      0.14948   |\n",
      "| 22 | South Dakota         |            30.4 | 2.19905e+12 |      6.68091e+06 |               105 |         4.77478e-11 |                      0.0630527 |\n",
      "| 23 | Arkansas             |            34.5 | 1.4887e+12  |      5.70763e+06 |               151 |         1.01431e-10 |                      0.143589  |\n",
      "| 24 | Mississippi          |            35.6 | 1.32785e+12 |      5.8342e+06  |                82 |         6.17538e-11 |                      0.0840648 |\n",
      "| 25 | Colorado             |            20.2 | 3.06688e+12 |      7.0923e+06  |               158 |         5.15182e-11 |                      0.0687091 |\n",
      "| 26 | North Carolina       |            30.1 | 1.49576e+12 |      6.71406e+06 |               358 |         2.39344e-10 |                      0.350489  |\n",
      "| 27 | Utah                 |            24.5 | 2.61428e+12 |      6.79897e+06 |               159 |         6.08198e-11 |                      0.0826636 |\n",
      "| 28 | Oklahoma             |            33.9 | 1.98245e+12 |      7.85712e+06 |               208 |         1.04921e-10 |                      0.148825  |\n",
      "| 29 | Wyoming              |            29   | 2.8974e+12  |      6.86097e+06 |                41 |         1.41506e-11 |                      0.0126494 |\n",
      "| 30 | West Virginia        |            35.6 | 6.85167e+11 |      5.37428e+06 |                93 |         1.35733e-10 |                      0.19505   |\n",
      "| 31 | Indiana              |            31.3 | 1.01036e+12 |      4.85888e+06 |               379 |         3.75112e-10 |                      0.554172  |\n",
      "| 32 | Massachusetts        |            24.3 | 2.47225e+11 |      4.19722e+06 |               131 |         5.29882e-10 |                      0.786361  |\n",
      "| 33 | Nevada               |            26.7 | 3.56435e+12 |      8.24079e+06 |               135 |         3.7875e-11  |                      0.0482413 |\n",
      "| 34 | Connecticut          |            25.3 | 1.45422e+11 |      1.78063e+06 |                96 |         6.60148e-10 |                      0.981789  |\n",
      "| 35 | District of Columbia |            22.1 | 1.9721e+09  | 200325           |               nan |       nan           |                    nan         |\n",
      "| 36 | Rhode Island         |            26   | 3.61781e+10 | 984525           |                24 |         6.63385e-10 |                      0.986646  |\n",
      "| 37 | Alabama              |            35.6 | 1.44281e+12 |      5.75066e+06 |               236 |         1.6357e-10  |                      0.236812  |\n",
      "| 38 | Puerto Rico          |            29.5 | 1.14784e+11 |      2.13627e+06 |               nan |       nan           |                    nan         |\n",
      "| 39 | South Carolina       |            31.7 | 8.7827e+11  |      4.37094e+06 |               238 |         2.70987e-10 |                      0.397961  |\n",
      "| 40 | Maine                |            30   | 9.90385e+11 |      5.56004e+06 |                44 |         4.44272e-11 |                      0.058071  |\n",
      "| 41 | Arizona              |            28.4 | 3.56269e+12 |      8.04418e+06 |               208 |         5.83829e-11 |                      0.0790077 |\n",
      "| 42 | New Mexico           |            28.8 | 3.62293e+12 |      8.07517e+06 |               149 |         4.11269e-11 |                      0.0531199 |\n",
      "| 43 | Maryland             |            28.9 | 3.03943e+11 |      5.85036e+06 |               159 |         5.23124e-10 |                      0.776223  |\n",
      "| 44 | Delaware             |            29.7 | 5.90811e+10 |      1.3836e+06  |                32 |         5.41628e-10 |                      0.803983  |\n",
      "| 45 | Pennsylvania         |            30   | 1.28845e+12 |      5.02435e+06 |               283 |         2.19643e-10 |                      0.320934  |\n",
      "| 46 | Kansas               |            34.2 | 2.34037e+12 |      6.5405e+06  |               103 |         4.40102e-11 |                      0.0574455 |\n",
      "| 47 | Vermont              |            25.1 | 2.78931e+11 |      2.65373e+06 |                43 |         1.5416e-10  |                      0.222694  |\n",
      "| 48 | New Jersey           |            25.6 | 2.24607e+11 |      2.59912e+06 |               151 |         6.72287e-10 |                      1         |\n",
      "| 49 | North Dakota         |            31   | 2.01315e+12 |      5.87276e+06 |                50 |         2.48367e-11 |                      0.0286809 |\n"
     ]
    }
   ],
   "source": [
    "df = pd.read_csv('fastfood_obesity.csv') \n",
    "\n",
    "print(df.head(50).to_markdown())"
   ]
  }
 ],
 "metadata": {
  "kernelspec": {
   "display_name": "Python 3",
   "language": "python",
   "name": "python3"
  },
  "language_info": {
   "codemirror_mode": {
    "name": "ipython",
    "version": 3
   },
   "file_extension": ".py",
   "mimetype": "text/x-python",
   "name": "python",
   "nbconvert_exporter": "python",
   "pygments_lexer": "ipython3",
   "version": "3.13.2"
  }
 },
 "nbformat": 4,
 "nbformat_minor": 2
}
