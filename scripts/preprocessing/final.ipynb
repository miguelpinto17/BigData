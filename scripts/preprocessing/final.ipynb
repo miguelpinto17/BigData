{
 "cells": [
  {
   "cell_type": "code",
   "execution_count": 1,
   "metadata": {},
   "outputs": [
    {
     "name": "stdout",
     "output_type": "stream",
     "text": [
      "Dados limpos e salvos como 'final.csv'\n"
     ]
    }
   ],
   "source": [
    "import pandas as pd\n",
    "\n",
    "df = pd.read_csv(\"fastfood_obesity.csv\")\n",
    "\n",
    "# Selecionar apenas as colunas relevantes e renomear fast_food_density_normalized\n",
    "df_final = df[['State', 'Obesity_index', 'fast_food_density_normalized']].rename(\n",
    "    columns={'fast_food_density_normalized': 'fast_food_density'}\n",
    ")\n",
    "\n",
    "# save\n",
    "df_final.to_csv(\"final.csv\", index=False)\n",
    "\n",
    "print(\"Dados limpos e salvos como 'final.csv'\")\n"
   ]
  },
  {
   "cell_type": "code",
   "execution_count": 2,
   "metadata": {},
   "outputs": [
    {
     "name": "stdout",
     "output_type": "stream",
     "text": [
      "|    | State                |   Obesity_index |   fast_food_density |\n",
      "|---:|:---------------------|----------------:|--------------------:|\n",
      "|  0 | Texas                |            32.4 |           0.115391  |\n",
      "|  1 | California           |            24.2 |           0.181771  |\n",
      "|  2 | Kentucky             |            34.6 |           0.43265   |\n",
      "|  3 | Georgia              |            30.7 |           0.306353  |\n",
      "|  4 | Wisconsin            |            30.7 |           0.169401  |\n",
      "|  5 | Oregon               |            30.1 |           0.0452282 |\n",
      "|  6 | Virginia             |            29.2 |           0.414764  |\n",
      "|  7 | Tennessee            |            33.8 |           0.303687  |\n",
      "|  8 | Louisiana            |            36.2 |           0.253803  |\n",
      "|  9 | New York             |            25   |           0.277341  |\n",
      "| 10 | Michigan             |            31.2 |           0.218642  |\n",
      "| 11 | Idaho                |            28.6 |           0.0486852 |\n",
      "| 12 | Florida              |            26.8 |           0.413422  |\n",
      "| 13 | Alaska               |            29.8 |           0.0310404 |\n",
      "| 14 | Montana              |            23.6 |           0         |\n",
      "| 15 | Minnesota            |            26.1 |           0.0851892 |\n",
      "| 16 | Nebraska             |            31.4 |           0.0539454 |\n",
      "| 17 | Washington           |            26.4 |           0.133027  |\n",
      "| 18 | Ohio                 |            29.8 |           0.694883  |\n",
      "| 19 | Illinois             |            30.8 |           0.337941  |\n",
      "| 20 | Missouri             |            32.4 |           0.248511  |\n",
      "| 21 | Iowa                 |            32.1 |           0.14948   |\n",
      "| 22 | South Dakota         |            30.4 |           0.0630527 |\n",
      "| 23 | Arkansas             |            34.5 |           0.143589  |\n",
      "| 24 | Mississippi          |            35.6 |           0.0840648 |\n",
      "| 25 | Colorado             |            20.2 |           0.0687091 |\n",
      "| 26 | North Carolina       |            30.1 |           0.350489  |\n",
      "| 27 | Utah                 |            24.5 |           0.0826636 |\n",
      "| 28 | Oklahoma             |            33.9 |           0.148825  |\n",
      "| 29 | Wyoming              |            29   |           0.0126494 |\n",
      "| 30 | West Virginia        |            35.6 |           0.19505   |\n",
      "| 31 | Indiana              |            31.3 |           0.554172  |\n",
      "| 32 | Massachusetts        |            24.3 |           0.786361  |\n",
      "| 33 | Nevada               |            26.7 |           0.0482413 |\n",
      "| 34 | Connecticut          |            25.3 |           0.981789  |\n",
      "| 35 | District of Columbia |            22.1 |         nan         |\n",
      "| 36 | Rhode Island         |            26   |           0.986646  |\n",
      "| 37 | Alabama              |            35.6 |           0.236812  |\n",
      "| 38 | Puerto Rico          |            29.5 |         nan         |\n",
      "| 39 | South Carolina       |            31.7 |           0.397961  |\n",
      "| 40 | Maine                |            30   |           0.058071  |\n",
      "| 41 | Arizona              |            28.4 |           0.0790077 |\n",
      "| 42 | New Mexico           |            28.8 |           0.0531199 |\n",
      "| 43 | Maryland             |            28.9 |           0.776223  |\n",
      "| 44 | Delaware             |            29.7 |           0.803983  |\n",
      "| 45 | Pennsylvania         |            30   |           0.320934  |\n",
      "| 46 | Kansas               |            34.2 |           0.0574455 |\n",
      "| 47 | Vermont              |            25.1 |           0.222694  |\n",
      "| 48 | New Jersey           |            25.6 |           1         |\n",
      "| 49 | North Dakota         |            31   |           0.0286809 |\n"
     ]
    }
   ],
   "source": [
    "df = pd.read_csv('final.csv') \n",
    "\n",
    "print(df.head(50).to_markdown())"
   ]
  }
 ],
 "metadata": {
  "kernelspec": {
   "display_name": "Python 3",
   "language": "python",
   "name": "python3"
  },
  "language_info": {
   "codemirror_mode": {
    "name": "ipython",
    "version": 3
   },
   "file_extension": ".py",
   "mimetype": "text/x-python",
   "name": "python",
   "nbconvert_exporter": "python",
   "pygments_lexer": "ipython3",
   "version": "3.13.2"
  }
 },
 "nbformat": 4,
 "nbformat_minor": 2
}
